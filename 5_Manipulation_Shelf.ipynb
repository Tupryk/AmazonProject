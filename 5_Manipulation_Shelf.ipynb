{
 "cells": [
  {
   "cell_type": "markdown",
   "metadata": {},
   "source": [
    "# Manipulation.py: Shelf"
   ]
  },
  {
   "cell_type": "code",
   "execution_count": 2,
   "metadata": {},
   "outputs": [],
   "source": [
    "import numpy as np\n",
    "import robotic as ry\n",
    "from time import sleep\n",
    "import manipulation as manip\n",
    "from shelf import generate_shelf"
   ]
  },
  {
   "cell_type": "code",
   "execution_count": 3,
   "metadata": {},
   "outputs": [
    {
     "data": {
      "text/plain": [
       "0"
      ]
     },
     "execution_count": 3,
     "metadata": {},
     "output_type": "execute_result"
    }
   ],
   "source": [
    "C = ry.Config()\n",
    "C.addFile(ry.raiPath('../rai-robotModels/scenarios/pandaSingle.g'))\n",
    "\n",
    "C.delFrame(\"panda_collCameraWrist\")\n",
    "C.getFrame(\"table\").setShape(ry.ST.ssBox, size=[1., 1., .1, .02])\n",
    "\n",
    "# Shelf\n",
    "pos = np.array([-1., 0., .5])\n",
    "generate_shelf(C, pos)\n",
    "\n",
    "# Objects\n",
    "for i in range(6):\n",
    "\tcolor = [0., 0., 0.]\n",
    "\tcolor[i%3] = 1.\n",
    "\tC.addFrame(f\"box{i}\") \\\n",
    "\t\t.setPosition([(i%3)*.1, (i//3)*.1, .7]) \\\n",
    "\t\t.setShape(ry.ST.ssBox, size=[.04, .04, .12, 0.005]) \\\n",
    "\t\t.setColor(color) \\\n",
    "\t\t.setContact(1) \\\n",
    "\t\t.setMass(.1)\n",
    "\t\n",
    "# for convenience, a few definitions:\n",
    "gripper = \"l_gripper\"\n",
    "palm = \"l_palm\"\n",
    "table = \"table\"\n",
    "box = \"box0\"\n",
    "\n",
    "C.view()"
   ]
  },
  {
   "cell_type": "code",
   "execution_count": 4,
   "metadata": {},
   "outputs": [],
   "source": [
    "def pick_place(boxes: list[str], shelf_coor: list[list[int]], vis: bool=False) -> bool:\n",
    "\tM = manip.ManipulationModelling(C, \"shelf_task\", helpers=[gripper])\n",
    "\tM.setup_pick_and_place_sequence(gripper, boxes, accumulated_collisions=False)\n",
    "\n",
    "\tfor i, sc in enumerate(shelf_coor):\n",
    "\t\ttime = i*2+1\n",
    "\t\tM.grasp_box(time, gripper, boxes[i], \"l_palm\", \"x\")\n",
    "\t\tM.komo.addObjective([time+1], ry.FS.insideBox, [f\"small_box_inside_0_{sc[0]}_{sc[1]}\", boxes[i]], ry.OT.ineq, [1e1])\n",
    "\t\tM.komo.addObjective([time+1], ry.FS.scalarProductXZ, [table, gripper], ry.OT.eq, [1e1], [1.])\n",
    "\t\n",
    "\tkeypoints = M.solve()\n",
    "\tM.komo.report(plotOverTime=True)\n",
    "\tif not M.feasible:\n",
    "\t\treturn False, []\n",
    "\t\n",
    "\tfor i, k in enumerate(keypoints):\n",
    "\t\tC.setJointState(k)\n",
    "\t\tif i%2:\n",
    "\t\t\tC.attach(table, boxes[i//2])\n",
    "\t\telse:\n",
    "\t\t\tC.attach(gripper, boxes[i//2])\n",
    "\t\tC.view(False, f'step {i}')\n",
    "\t\tsleep(1.)\n",
    "\n",
    "\treturn True, keypoints\n",
    "\n",
    "\tM1 = M.sub_motion(0)\n",
    "\tM1.keep_distance([.3,.7], \"l_palm\", obj, margin=.05)\n",
    "\tM1.retract([.0, .2], gripper)\n",
    "\tM1.approach([.8, 1.], gripper)\n",
    "\tpath1 = M1.solve()\n",
    "\tif not M1.feasible:\n",
    "\t\treturn False, []\n",
    "\n",
    "\tM2 = M.sub_motion(1)\n",
    "\tM2.keep_distance([], table, \"panda_collCameraWrist\")\n",
    "\tM2.keep_distance([.2, .8], table, obj, .04)\n",
    "\tM2.keep_distance([], \"l_palm\", obj)\n",
    "\tpath2 = M2.solve()\n",
    "\tif not M2.feasible:\n",
    "\t\treturn False, []\n",
    "\n",
    "\tif vis:\n",
    "\t\tM1.play(C, 1.)\n",
    "\t\tC.attach(gripper, obj)\n",
    "\t\tM2.play(C, 1.)\n",
    "\t\tC.attach(table, obj)\n",
    "\n",
    "\tpath = np.append(path1, path2, 0)\n",
    "\treturn True, path"
   ]
  },
  {
   "cell_type": "code",
   "execution_count": 5,
   "metadata": {},
   "outputs": [
    {
     "name": "stdout",
     "output_type": "stream",
     "text": [
      "  -- infeasible:shelf_task\n",
      "     { time: 0.697593, evals: 200, done: 1, feasible: 0, sos: 0.430689, f: 0, ineq: 0.187772, eq: 0.725134 }\n"
     ]
    }
   ],
   "source": [
    "boxes = [f\"box{i}\" for i in range(6)]\n",
    "shelf_coor = [[2, 3], [2, 2], [1, 3], [1, 2], [1, 1], [3, 3]]\n",
    "for i, sc in enumerate(shelf_coor):\n",
    "\tc = [0., 0., 0., .5]\n",
    "\tc[i%3] = 1.\n",
    "\tC.getFrame(f\"small_box_inside_0_{sc[0]}_{sc[1]}\") \\\n",
    "\t\t\t.setColor(c)\n",
    "C.view()\n",
    "success, _ = pick_place(boxes, shelf_coor, vis=True)"
   ]
  },
  {
   "cell_type": "code",
   "execution_count": null,
   "metadata": {},
   "outputs": [],
   "source": []
  }
 ],
 "metadata": {
  "kernelspec": {
   "display_name": "Python 3",
   "language": "python",
   "name": "python3"
  },
  "language_info": {
   "codemirror_mode": {
    "name": "ipython",
    "version": 3
   },
   "file_extension": ".py",
   "mimetype": "text/x-python",
   "name": "python",
   "nbconvert_exporter": "python",
   "pygments_lexer": "ipython3",
   "version": "3.10.12"
  }
 },
 "nbformat": 4,
 "nbformat_minor": 2
}
